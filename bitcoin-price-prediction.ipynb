{
 "cells": [
  {
   "cell_type": "code",
   "execution_count": 80,
   "id": "1e12f329-da0c-4faa-9603-ea3372b67bf4",
   "metadata": {},
   "outputs": [],
   "source": [
    "!export TF_ENABLE_ONEDNN_OPTS=0"
   ]
  },
  {
   "cell_type": "code",
   "execution_count": 81,
   "id": "bf31e3be-21c8-4960-bb21-9b56124a111d",
   "metadata": {},
   "outputs": [],
   "source": [
    "import ccxt\n",
    "import matplotlib.pyplot as plt\n",
    "import numpy as np\n",
    "import os\n",
    "import tensorflow as tf\n",
    "import pandas as pd\n",
    "\n",
    "from datetime import datetime, timedelta\n",
    "from keras.models import Sequential, load_model\n",
    "from keras.layers import LSTM, Dense, Dropout\n",
    "from sklearn.preprocessing import MinMaxScaler"
   ]
  },
  {
   "cell_type": "code",
   "execution_count": 82,
   "id": "67ad3d97-a989-41c5-bdaf-b53359fea648",
   "metadata": {},
   "outputs": [],
   "source": [
    "# Create an instance of the exchange\n",
    "exchange = ccxt.binance()\n",
    "\n",
    "# Fetch OHLCV (Open, High, Low, Close, Volume) data for BTC/EUR pair\n",
    "ohlcv = exchange.fetch_ohlcv('BTC/EUR', timeframe='1d')"
   ]
  },
  {
   "cell_type": "code",
   "execution_count": 83,
   "id": "661196c6-884b-4fab-8b18-76d83ed7bac2",
   "metadata": {},
   "outputs": [],
   "source": [
    "df_ohlcv = pd.DataFrame(ohlcv, columns=['date', 'open', 'high', 'low', 'close', 'volume'])"
   ]
  },
  {
   "cell_type": "code",
   "execution_count": 85,
   "id": "e96a43bb-f3e7-44f3-a76d-bdade87d1d0c",
   "metadata": {},
   "outputs": [],
   "source": [
    "df_ohlcv['date'] = df_ohlcv['date'].apply(lambda x: datetime.fromtimestamp(x/1000))"
   ]
  },
  {
   "cell_type": "code",
   "execution_count": 86,
   "id": "630f9143-fe3f-4503-9a9d-8c41b3b28be9",
   "metadata": {},
   "outputs": [
    {
     "data": {
      "text/html": [
       "<div>\n",
       "<style scoped>\n",
       "    .dataframe tbody tr th:only-of-type {\n",
       "        vertical-align: middle;\n",
       "    }\n",
       "\n",
       "    .dataframe tbody tr th {\n",
       "        vertical-align: top;\n",
       "    }\n",
       "\n",
       "    .dataframe thead th {\n",
       "        text-align: right;\n",
       "    }\n",
       "</style>\n",
       "<table border=\"1\" class=\"dataframe\">\n",
       "  <thead>\n",
       "    <tr style=\"text-align: right;\">\n",
       "      <th></th>\n",
       "      <th>date</th>\n",
       "      <th>open</th>\n",
       "      <th>high</th>\n",
       "      <th>low</th>\n",
       "      <th>close</th>\n",
       "      <th>volume</th>\n",
       "    </tr>\n",
       "  </thead>\n",
       "  <tbody>\n",
       "    <tr>\n",
       "      <th>0</th>\n",
       "      <td>2022-08-10 02:00:00</td>\n",
       "      <td>22712.40</td>\n",
       "      <td>23551.12</td>\n",
       "      <td>22246.88</td>\n",
       "      <td>23287.96</td>\n",
       "      <td>2622.66664</td>\n",
       "    </tr>\n",
       "    <tr>\n",
       "      <th>1</th>\n",
       "      <td>2022-08-11 02:00:00</td>\n",
       "      <td>23291.14</td>\n",
       "      <td>24125.00</td>\n",
       "      <td>23151.70</td>\n",
       "      <td>23241.01</td>\n",
       "      <td>2716.45139</td>\n",
       "    </tr>\n",
       "    <tr>\n",
       "      <th>2</th>\n",
       "      <td>2022-08-12 02:00:00</td>\n",
       "      <td>23244.14</td>\n",
       "      <td>23849.00</td>\n",
       "      <td>22960.00</td>\n",
       "      <td>23789.39</td>\n",
       "      <td>1995.42382</td>\n",
       "    </tr>\n",
       "    <tr>\n",
       "      <th>3</th>\n",
       "      <td>2022-08-13 02:00:00</td>\n",
       "      <td>23794.16</td>\n",
       "      <td>24235.37</td>\n",
       "      <td>23666.00</td>\n",
       "      <td>23848.48</td>\n",
       "      <td>1634.92142</td>\n",
       "    </tr>\n",
       "    <tr>\n",
       "      <th>4</th>\n",
       "      <td>2022-08-14 02:00:00</td>\n",
       "      <td>23851.03</td>\n",
       "      <td>24400.00</td>\n",
       "      <td>23582.04</td>\n",
       "      <td>23733.76</td>\n",
       "      <td>1578.95074</td>\n",
       "    </tr>\n",
       "  </tbody>\n",
       "</table>\n",
       "</div>"
      ],
      "text/plain": [
       "                 date      open      high       low     close      volume\n",
       "0 2022-08-10 02:00:00  22712.40  23551.12  22246.88  23287.96  2622.66664\n",
       "1 2022-08-11 02:00:00  23291.14  24125.00  23151.70  23241.01  2716.45139\n",
       "2 2022-08-12 02:00:00  23244.14  23849.00  22960.00  23789.39  1995.42382\n",
       "3 2022-08-13 02:00:00  23794.16  24235.37  23666.00  23848.48  1634.92142\n",
       "4 2022-08-14 02:00:00  23851.03  24400.00  23582.04  23733.76  1578.95074"
      ]
     },
     "execution_count": 86,
     "metadata": {},
     "output_type": "execute_result"
    }
   ],
   "source": [
    "df_ohlcv.head()"
   ]
  },
  {
   "cell_type": "code",
   "execution_count": 87,
   "id": "7df9da21-8847-4b2d-9761-ebe21f736ee3",
   "metadata": {},
   "outputs": [
    {
     "data": {
      "text/html": [
       "<div>\n",
       "<style scoped>\n",
       "    .dataframe tbody tr th:only-of-type {\n",
       "        vertical-align: middle;\n",
       "    }\n",
       "\n",
       "    .dataframe tbody tr th {\n",
       "        vertical-align: top;\n",
       "    }\n",
       "\n",
       "    .dataframe thead th {\n",
       "        text-align: right;\n",
       "    }\n",
       "</style>\n",
       "<table border=\"1\" class=\"dataframe\">\n",
       "  <thead>\n",
       "    <tr style=\"text-align: right;\">\n",
       "      <th></th>\n",
       "      <th>date</th>\n",
       "      <th>open</th>\n",
       "      <th>high</th>\n",
       "      <th>low</th>\n",
       "      <th>close</th>\n",
       "      <th>volume</th>\n",
       "    </tr>\n",
       "  </thead>\n",
       "  <tbody>\n",
       "    <tr>\n",
       "      <th>count</th>\n",
       "      <td>500</td>\n",
       "      <td>500.00000</td>\n",
       "      <td>500.000000</td>\n",
       "      <td>500.000000</td>\n",
       "      <td>500.000000</td>\n",
       "      <td>500.000000</td>\n",
       "    </tr>\n",
       "    <tr>\n",
       "      <th>mean</th>\n",
       "      <td>2023-04-16 13:35:52.799999744</td>\n",
       "      <td>24201.50284</td>\n",
       "      <td>24624.668800</td>\n",
       "      <td>23818.927500</td>\n",
       "      <td>24234.797400</td>\n",
       "      <td>1671.702332</td>\n",
       "    </tr>\n",
       "    <tr>\n",
       "      <th>min</th>\n",
       "      <td>2022-08-10 02:00:00</td>\n",
       "      <td>15387.42000</td>\n",
       "      <td>15487.350000</td>\n",
       "      <td>15120.000000</td>\n",
       "      <td>15379.210000</td>\n",
       "      <td>88.261530</td>\n",
       "    </tr>\n",
       "    <tr>\n",
       "      <th>25%</th>\n",
       "      <td>2022-12-12 19:00:00</td>\n",
       "      <td>20202.55000</td>\n",
       "      <td>20555.290000</td>\n",
       "      <td>19775.677500</td>\n",
       "      <td>20204.750000</td>\n",
       "      <td>507.784427</td>\n",
       "    </tr>\n",
       "    <tr>\n",
       "      <th>50%</th>\n",
       "      <td>2023-04-16 14:00:00</td>\n",
       "      <td>24386.73500</td>\n",
       "      <td>24760.705000</td>\n",
       "      <td>24010.865000</td>\n",
       "      <td>24417.795000</td>\n",
       "      <td>1100.734155</td>\n",
       "    </tr>\n",
       "    <tr>\n",
       "      <th>75%</th>\n",
       "      <td>2023-08-19 08:00:00</td>\n",
       "      <td>26740.46750</td>\n",
       "      <td>27056.987500</td>\n",
       "      <td>26496.265000</td>\n",
       "      <td>26762.137500</td>\n",
       "      <td>2407.900492</td>\n",
       "    </tr>\n",
       "    <tr>\n",
       "      <th>max</th>\n",
       "      <td>2023-12-22 01:00:00</td>\n",
       "      <td>41123.35000</td>\n",
       "      <td>41574.460000</td>\n",
       "      <td>40561.590000</td>\n",
       "      <td>41109.830000</td>\n",
       "      <td>11341.142750</td>\n",
       "    </tr>\n",
       "    <tr>\n",
       "      <th>std</th>\n",
       "      <td>NaN</td>\n",
       "      <td>5562.71820</td>\n",
       "      <td>5676.448248</td>\n",
       "      <td>5474.017093</td>\n",
       "      <td>5603.934873</td>\n",
       "      <td>1605.430951</td>\n",
       "    </tr>\n",
       "  </tbody>\n",
       "</table>\n",
       "</div>"
      ],
      "text/plain": [
       "                                date         open          high           low  \\\n",
       "count                            500    500.00000    500.000000    500.000000   \n",
       "mean   2023-04-16 13:35:52.799999744  24201.50284  24624.668800  23818.927500   \n",
       "min              2022-08-10 02:00:00  15387.42000  15487.350000  15120.000000   \n",
       "25%              2022-12-12 19:00:00  20202.55000  20555.290000  19775.677500   \n",
       "50%              2023-04-16 14:00:00  24386.73500  24760.705000  24010.865000   \n",
       "75%              2023-08-19 08:00:00  26740.46750  27056.987500  26496.265000   \n",
       "max              2023-12-22 01:00:00  41123.35000  41574.460000  40561.590000   \n",
       "std                              NaN   5562.71820   5676.448248   5474.017093   \n",
       "\n",
       "              close        volume  \n",
       "count    500.000000    500.000000  \n",
       "mean   24234.797400   1671.702332  \n",
       "min    15379.210000     88.261530  \n",
       "25%    20204.750000    507.784427  \n",
       "50%    24417.795000   1100.734155  \n",
       "75%    26762.137500   2407.900492  \n",
       "max    41109.830000  11341.142750  \n",
       "std     5603.934873   1605.430951  "
      ]
     },
     "execution_count": 87,
     "metadata": {},
     "output_type": "execute_result"
    }
   ],
   "source": [
    "df_ohlcv.describe()"
   ]
  },
  {
   "cell_type": "code",
   "execution_count": 88,
   "id": "4894ddd9-8c92-40f2-8d65-9cd9a5a079e3",
   "metadata": {},
   "outputs": [],
   "source": [
    "# Filter the DataFrame to start at the specific date\n",
    "df_ohlcv_year = df_ohlcv[df_ohlcv['date'] >= df_ohlcv['date'].max() - timedelta(days=365)]"
   ]
  },
  {
   "cell_type": "code",
   "execution_count": 89,
   "id": "c81e07b0-665b-4022-a719-a4b45abe1884",
   "metadata": {},
   "outputs": [
    {
     "data": {
      "text/html": [
       "<div>\n",
       "<style scoped>\n",
       "    .dataframe tbody tr th:only-of-type {\n",
       "        vertical-align: middle;\n",
       "    }\n",
       "\n",
       "    .dataframe tbody tr th {\n",
       "        vertical-align: top;\n",
       "    }\n",
       "\n",
       "    .dataframe thead th {\n",
       "        text-align: right;\n",
       "    }\n",
       "</style>\n",
       "<table border=\"1\" class=\"dataframe\">\n",
       "  <thead>\n",
       "    <tr style=\"text-align: right;\">\n",
       "      <th></th>\n",
       "      <th>date</th>\n",
       "      <th>open</th>\n",
       "      <th>high</th>\n",
       "      <th>low</th>\n",
       "      <th>close</th>\n",
       "      <th>volume</th>\n",
       "    </tr>\n",
       "  </thead>\n",
       "  <tbody>\n",
       "    <tr>\n",
       "      <th>count</th>\n",
       "      <td>366</td>\n",
       "      <td>366.000000</td>\n",
       "      <td>366.000000</td>\n",
       "      <td>366.000000</td>\n",
       "      <td>366.000000</td>\n",
       "      <td>366.000000</td>\n",
       "    </tr>\n",
       "    <tr>\n",
       "      <th>mean</th>\n",
       "      <td>2023-06-22 13:35:34.426229248</td>\n",
       "      <td>26058.207377</td>\n",
       "      <td>26513.550273</td>\n",
       "      <td>25669.907705</td>\n",
       "      <td>26122.401421</td>\n",
       "      <td>1227.024067</td>\n",
       "    </tr>\n",
       "    <tr>\n",
       "      <th>min</th>\n",
       "      <td>2022-12-22 01:00:00</td>\n",
       "      <td>15425.080000</td>\n",
       "      <td>15487.350000</td>\n",
       "      <td>15306.590000</td>\n",
       "      <td>15425.260000</td>\n",
       "      <td>88.261530</td>\n",
       "    </tr>\n",
       "    <tr>\n",
       "      <th>25%</th>\n",
       "      <td>2023-03-23 07:00:00</td>\n",
       "      <td>24034.455000</td>\n",
       "      <td>24278.140000</td>\n",
       "      <td>23567.875000</td>\n",
       "      <td>24053.192500</td>\n",
       "      <td>426.185962</td>\n",
       "    </tr>\n",
       "    <tr>\n",
       "      <th>50%</th>\n",
       "      <td>2023-06-22 14:00:00</td>\n",
       "      <td>25635.005000</td>\n",
       "      <td>26043.990000</td>\n",
       "      <td>25207.945000</td>\n",
       "      <td>25671.700000</td>\n",
       "      <td>769.604180</td>\n",
       "    </tr>\n",
       "    <tr>\n",
       "      <th>75%</th>\n",
       "      <td>2023-09-21 20:00:00</td>\n",
       "      <td>27371.725000</td>\n",
       "      <td>27895.640000</td>\n",
       "      <td>27108.385000</td>\n",
       "      <td>27471.422500</td>\n",
       "      <td>1413.951097</td>\n",
       "    </tr>\n",
       "    <tr>\n",
       "      <th>max</th>\n",
       "      <td>2023-12-22 01:00:00</td>\n",
       "      <td>41123.350000</td>\n",
       "      <td>41574.460000</td>\n",
       "      <td>40561.590000</td>\n",
       "      <td>41109.830000</td>\n",
       "      <td>7990.789180</td>\n",
       "    </tr>\n",
       "    <tr>\n",
       "      <th>std</th>\n",
       "      <td>NaN</td>\n",
       "      <td>5242.051452</td>\n",
       "      <td>5354.479659</td>\n",
       "      <td>5127.697546</td>\n",
       "      <td>5261.412217</td>\n",
       "      <td>1300.229773</td>\n",
       "    </tr>\n",
       "  </tbody>\n",
       "</table>\n",
       "</div>"
      ],
      "text/plain": [
       "                                date          open          high  \\\n",
       "count                            366    366.000000    366.000000   \n",
       "mean   2023-06-22 13:35:34.426229248  26058.207377  26513.550273   \n",
       "min              2022-12-22 01:00:00  15425.080000  15487.350000   \n",
       "25%              2023-03-23 07:00:00  24034.455000  24278.140000   \n",
       "50%              2023-06-22 14:00:00  25635.005000  26043.990000   \n",
       "75%              2023-09-21 20:00:00  27371.725000  27895.640000   \n",
       "max              2023-12-22 01:00:00  41123.350000  41574.460000   \n",
       "std                              NaN   5242.051452   5354.479659   \n",
       "\n",
       "                low         close       volume  \n",
       "count    366.000000    366.000000   366.000000  \n",
       "mean   25669.907705  26122.401421  1227.024067  \n",
       "min    15306.590000  15425.260000    88.261530  \n",
       "25%    23567.875000  24053.192500   426.185962  \n",
       "50%    25207.945000  25671.700000   769.604180  \n",
       "75%    27108.385000  27471.422500  1413.951097  \n",
       "max    40561.590000  41109.830000  7990.789180  \n",
       "std     5127.697546   5261.412217  1300.229773  "
      ]
     },
     "execution_count": 89,
     "metadata": {},
     "output_type": "execute_result"
    }
   ],
   "source": [
    "df_ohlcv_year.describe()"
   ]
  },
  {
   "cell_type": "code",
   "execution_count": 90,
   "id": "bd52c2ae-4cfb-4dad-8b12-5267e8f636bb",
   "metadata": {},
   "outputs": [],
   "source": [
    "df_year = df_ohlcv_year['open'].values"
   ]
  },
  {
   "cell_type": "code",
   "execution_count": 92,
   "id": "c39140e9-1d15-4180-b511-9e30a7ce7804",
   "metadata": {},
   "outputs": [
    {
     "data": {
      "image/png": "[encoded data removed]",
      "text/plain": [
       "<Figure size 800x300 with 1 Axes>"
      ]
     },
     "metadata": {},
     "output_type": "display_data"
    }
   ],
   "source": [
    "plt.figure(figsize=(8,3))\n",
    "plt.plot(df, color='blue', label='BTC/EUR 1Y')\n",
    "plt.grid()\n",
    "plt.legend();"
   ]
  },
  {
   "cell_type": "code",
   "execution_count": 95,
   "id": "f997ca4f-8280-48bc-b725-26cec9766789",
   "metadata": {},
   "outputs": [],
   "source": [
    "df = df_ohlcv['open'].values\n",
    "df = df.reshape(-1, 1)"
   ]
  },
  {
   "cell_type": "code",
   "execution_count": 100,
   "id": "caad3ee2-0608-4e38-b9d1-e0576267a04c",
   "metadata": {},
   "outputs": [],
   "source": [
    "# test train split\n",
    "dataset_train = np.array(df[:int(df.shape[0]*0.8)])\n",
    "dataset_test = np.array(df[int(df.shape[0]*0.8)-50:])"
   ]
  },
  {
   "cell_type": "code",
   "execution_count": 101,
   "id": "525f9b2b-ae53-4e26-8200-e0079c080533",
   "metadata": {},
   "outputs": [],
   "source": [
    "# scaling data\n",
    "scaler = MinMaxScaler(feature_range=(0,1))\n",
    "dataset_train = scaler.fit_transform(dataset_train)\n",
    "dataset_test = scaler.transform(dataset_test)"
   ]
  },
  {
   "cell_type": "code",
   "execution_count": 104,
   "id": "b6c2be8d-476c-4920-ae4c-d00903544122",
   "metadata": {},
   "outputs": [],
   "source": [
    "def create_custom_dataset(df):\n",
    "    x = []\n",
    "    y = []\n",
    "    for i in range(50,df.shape[0]):\n",
    "        x.append(df[i-50:i,0])\n",
    "        y.append(df[i,0])\n",
    "    x = np.array(x)\n",
    "    y = np.array(y)\n",
    "    return x,y"
   ]
  },
  {
   "cell_type": "code",
   "execution_count": 107,
   "id": "e4c1ac22-a91c-45a8-8aa1-9a87bc902561",
   "metadata": {},
   "outputs": [],
   "source": [
    "x_train, y_train = create_custom_dataset(dataset_train)\n",
    "x_test, y_test = create_custom_dataset(dataset_test)"
   ]
  },
  {
   "cell_type": "code",
   "execution_count": 108,
   "id": "a4c02df6-7dcc-4031-a4c8-a062db06a2d3",
   "metadata": {},
   "outputs": [
    {
     "name": "stdout",
     "output_type": "stream",
     "text": [
      "(350, 50, 1)\n",
      "(100, 50, 1)\n"
     ]
    }
   ],
   "source": [
    "# reshaping for LSTM\n",
    "x_train = np.reshape(x_train, (x_train.shape[0],x_train.shape[1], 1))\n",
    "x_test = np.reshape(x_test, (x_test.shape[0], x_test.shape[1], 1))\n",
    "print(x_train.shape)\n",
    "print(x_test.shape)"
   ]
  },
  {
   "cell_type": "code",
   "execution_count": 109,
   "id": "63bb9283-2334-46a6-9daa-54105413b925",
   "metadata": {},
   "outputs": [
    {
     "name": "stderr",
     "output_type": "stream",
     "text": [
      "2023-12-22 00:48:56.436618: I tensorflow/compiler/xla/stream_executor/cuda/cuda_gpu_executor.cc:981] could not open file to read NUMA node: /sys/bus/pci/devices/0000:01:00.0/numa_node\n",
      "Your kernel may have been built without NUMA support.\n",
      "2023-12-22 00:48:56.437091: W tensorflow/core/common_runtime/gpu/gpu_device.cc:1960] Cannot dlopen some GPU libraries. Please make sure the missing libraries mentioned above are installed properly if you would like to use GPU. Follow the guide at https://www.tensorflow.org/install/gpu for how to download and setup the required libraries for your platform.\n",
      "Skipping registering GPU devices...\n"
     ]
    }
   ],
   "source": [
    "model = Sequential()\n",
    "model.add(LSTM(units=96, return_sequences=True, input_shape=(x_train.shape[1], 1)))\n",
    "model.add(Dropout(0.2))\n",
    "model.add(LSTM(units=96, return_sequences=True))\n",
    "model.add(Dropout(0.2))\n",
    "model.add(LSTM(units=96))\n",
    "model.add(Dropout(0.2))\n",
    "model.add(Dense(units=1))"
   ]
  },
  {
   "cell_type": "code",
   "execution_count": 110,
   "id": "84649db8-13cd-4f20-a7cc-e0167bb6321f",
   "metadata": {},
   "outputs": [
    {
     "name": "stdout",
     "output_type": "stream",
     "text": [
      "Model: \"sequential\"\n",
      "_________________________________________________________________\n",
      " Layer (type)                Output Shape              Param #   \n",
      "=================================================================\n",
      " lstm (LSTM)                 (None, 50, 96)            37632     \n",
      "                                                                 \n",
      " dropout (Dropout)           (None, 50, 96)            0         \n",
      "                                                                 \n",
      " lstm_1 (LSTM)               (None, 50, 96)            74112     \n",
      "                                                                 \n",
      " dropout_1 (Dropout)         (None, 50, 96)            0         \n",
      "                                                                 \n",
      " lstm_2 (LSTM)               (None, 96)                74112     \n",
      "                                                                 \n",
      " dropout_2 (Dropout)         (None, 96)                0         \n",
      "                                                                 \n",
      " dense (Dense)               (None, 1)                 97        \n",
      "                                                                 \n",
      "=================================================================\n",
      "Total params: 185953 (726.38 KB)\n",
      "Trainable params: 185953 (726.38 KB)\n",
      "Non-trainable params: 0 (0.00 Byte)\n",
      "_________________________________________________________________\n"
     ]
    }
   ],
   "source": [
    "model.summary()"
   ]
  },
  {
   "cell_type": "code",
   "execution_count": 111,
   "id": "bdde8194-0310-48b6-9152-de6b64a813fd",
   "metadata": {},
   "outputs": [],
   "source": [
    "model.compile(loss='mean_squared_error', optimizer ='adam')"
   ]
  },
  {
   "cell_type": "code",
   "execution_count": 112,
   "id": "f5791f8e-a1fd-4171-9c65-b09cde779026",
   "metadata": {},
   "outputs": [
    {
     "name": "stdout",
     "output_type": "stream",
     "text": [
      "Epoch 1/50\n",
      "11/11 [==============================] - 4s 58ms/step - loss: 0.1034\n",
      "Epoch 2/50\n",
      "11/11 [==============================] - 1s 56ms/step - loss: 0.0270\n",
      "Epoch 3/50\n",
      "11/11 [==============================] - 1s 54ms/step - loss: 0.0189\n",
      "Epoch 4/50\n",
      "11/11 [==============================] - 1s 56ms/step - loss: 0.0161\n",
      "Epoch 5/50\n",
      "11/11 [==============================] - 1s 54ms/step - loss: 0.0150\n",
      "Epoch 6/50\n",
      "11/11 [==============================] - 1s 55ms/step - loss: 0.0148\n",
      "Epoch 7/50\n",
      "11/11 [==============================] - 1s 54ms/step - loss: 0.0131\n",
      "Epoch 8/50\n",
      "11/11 [==============================] - 1s 56ms/step - loss: 0.0122\n",
      "Epoch 9/50\n",
      "11/11 [==============================] - 1s 54ms/step - loss: 0.0124\n",
      "Epoch 10/50\n",
      "11/11 [==============================] - 1s 53ms/step - loss: 0.0132\n",
      "Epoch 11/50\n",
      "11/11 [==============================] - 1s 53ms/step - loss: 0.0137\n",
      "Epoch 12/50\n",
      "11/11 [==============================] - 1s 54ms/step - loss: 0.0117\n",
      "Epoch 13/50\n",
      "11/11 [==============================] - 1s 54ms/step - loss: 0.0114\n",
      "Epoch 14/50\n",
      "11/11 [==============================] - 1s 53ms/step - loss: 0.0109\n",
      "Epoch 15/50\n",
      "11/11 [==============================] - 1s 55ms/step - loss: 0.0103\n",
      "Epoch 16/50\n",
      "11/11 [==============================] - 1s 55ms/step - loss: 0.0102\n",
      "Epoch 17/50\n",
      "11/11 [==============================] - 1s 56ms/step - loss: 0.0097\n",
      "Epoch 18/50\n",
      "11/11 [==============================] - 1s 54ms/step - loss: 0.0090\n",
      "Epoch 19/50\n",
      "11/11 [==============================] - 1s 53ms/step - loss: 0.0092\n",
      "Epoch 20/50\n",
      "11/11 [==============================] - 1s 54ms/step - loss: 0.0083\n",
      "Epoch 21/50\n",
      "11/11 [==============================] - 1s 54ms/step - loss: 0.0087\n",
      "Epoch 22/50\n",
      "11/11 [==============================] - 1s 56ms/step - loss: 0.0083\n",
      "Epoch 23/50\n",
      "11/11 [==============================] - 1s 54ms/step - loss: 0.0086\n",
      "Epoch 24/50\n",
      "11/11 [==============================] - 1s 55ms/step - loss: 0.0073\n",
      "Epoch 25/50\n",
      "11/11 [==============================] - 1s 56ms/step - loss: 0.0071\n",
      "Epoch 26/50\n",
      "11/11 [==============================] - 1s 55ms/step - loss: 0.0074\n",
      "Epoch 27/50\n",
      "11/11 [==============================] - 1s 54ms/step - loss: 0.0092\n",
      "Epoch 28/50\n",
      "11/11 [==============================] - 1s 55ms/step - loss: 0.0071\n",
      "Epoch 29/50\n",
      "11/11 [==============================] - 1s 54ms/step - loss: 0.0077\n",
      "Epoch 30/50\n",
      "11/11 [==============================] - 1s 54ms/step - loss: 0.0067\n",
      "Epoch 31/50\n",
      "11/11 [==============================] - 1s 54ms/step - loss: 0.0069\n",
      "Epoch 32/50\n",
      "11/11 [==============================] - 1s 56ms/step - loss: 0.0074\n",
      "Epoch 33/50\n",
      "11/11 [==============================] - 1s 54ms/step - loss: 0.0076\n",
      "Epoch 34/50\n",
      "11/11 [==============================] - 1s 55ms/step - loss: 0.0058\n",
      "Epoch 35/50\n",
      "11/11 [==============================] - 1s 56ms/step - loss: 0.0065\n",
      "Epoch 36/50\n",
      "11/11 [==============================] - 1s 54ms/step - loss: 0.0060\n",
      "Epoch 37/50\n",
      "11/11 [==============================] - 1s 55ms/step - loss: 0.0060\n",
      "Epoch 38/50\n",
      "11/11 [==============================] - 1s 56ms/step - loss: 0.0052\n",
      "Epoch 39/50\n",
      "11/11 [==============================] - 1s 57ms/step - loss: 0.0061\n",
      "Epoch 40/50\n",
      "11/11 [==============================] - 1s 56ms/step - loss: 0.0059\n",
      "Epoch 41/50\n",
      "11/11 [==============================] - 1s 55ms/step - loss: 0.0064\n",
      "Epoch 42/50\n",
      "11/11 [==============================] - 1s 55ms/step - loss: 0.0058\n",
      "Epoch 43/50\n",
      "11/11 [==============================] - 1s 55ms/step - loss: 0.0062\n",
      "Epoch 44/50\n",
      "11/11 [==============================] - 1s 54ms/step - loss: 0.0051\n",
      "Epoch 45/50\n",
      "11/11 [==============================] - 1s 55ms/step - loss: 0.0062\n",
      "Epoch 46/50\n",
      "11/11 [==============================] - 1s 54ms/step - loss: 0.0053\n",
      "Epoch 47/50\n",
      "11/11 [==============================] - 1s 54ms/step - loss: 0.0058\n",
      "Epoch 48/50\n",
      "11/11 [==============================] - 1s 56ms/step - loss: 0.0053\n",
      "Epoch 49/50\n",
      "11/11 [==============================] - 1s 54ms/step - loss: 0.0052\n",
      "Epoch 50/50\n",
      "11/11 [==============================] - 1s 54ms/step - loss: 0.0049\n"
     ]
    }
   ],
   "source": [
    "if not os.path.exists('models/bitcoin_eur_prediction.keras'):\n",
    "    model.fit(x_train, y_train, epochs=50, batch_size=32)\n",
    "    model.save('models/bitcoin_eur_prediction.keras')"
   ]
  },
  {
   "cell_type": "code",
   "execution_count": 113,
   "id": "69a10064-5c72-4553-9d68-a6c3e3a9c56c",
   "metadata": {},
   "outputs": [],
   "source": [
    "model = load_model('models/bitcoin_eur_prediction.keras')"
   ]
  },
  {
   "cell_type": "code",
   "execution_count": 136,
   "id": "1fe68365-000a-4a27-9b60-f2282e76f871",
   "metadata": {},
   "outputs": [
    {
     "name": "stdout",
     "output_type": "stream",
     "text": [
      "4/4 [==============================] - 0s 17ms/step\n"
     ]
    },
    {
     "data": {
      "text/plain": [
       "<matplotlib.legend.Legend at 0x7f977de16190>"
      ]
     },
     "execution_count": 136,
     "metadata": {},
     "output_type": "execute_result"
    },
    {
     "data": {
      "image/png": "[encoded data removed]",
      "text/plain": [
       "<Figure size 800x300 with 1 Axes>"
      ]
     },
     "metadata": {},
     "output_type": "display_data"
    }
   ],
   "source": [
    "predictions = model.predict(x_test)\n",
    "predictions = scaler.inverse_transform(predictions)  # inverse MinMaxScaler()\n",
    "\n",
    "fig, ax = plt.subplots(figsize=(8,3))\n",
    "plt.plot(df, color='red', label='original BTC/EUR')\n",
    "ax.plot(range(len(y_train)+50, len(y_train)+50+len(predictions)),predictions,color='blue', label='predicted')\n",
    "plt.legend()"
   ]
  },
  {
   "cell_type": "code",
   "execution_count": 120,
   "id": "78325e7e-7f2b-48f4-8940-4d92680cc0e5",
   "metadata": {},
   "outputs": [
    {
     "data": {
      "text/plain": [
       "<matplotlib.legend.Legend at 0x7f97c1113a90>"
      ]
     },
     "execution_count": 120,
     "metadata": {},
     "output_type": "execute_result"
    },
    {
     "data": {
      "image/png": "[encoded data removed]",
      "text/plain": [
       "<Figure size 800x300 with 1 Axes>"
      ]
     },
     "metadata": {},
     "output_type": "display_data"
    }
   ],
   "source": [
    "y_test_scaled = scaler.inverse_transform(y_test.reshape(-1,1))\n",
    "\n",
    "fig, ax = plt.subplots(figsize=(8,3))\n",
    "ax.plot(y_test_scaled, color='red', label = 'original BTC/EUR')\n",
    "plt.plot(predictions, color = 'blue', label='predicted')\n",
    "plt.legend()"
   ]
  },
  {
   "cell_type": "code",
   "execution_count": null,
   "id": "a83479b2-34b0-4802-b896-bfc9f33c69f9",
   "metadata": {},
   "outputs": [],
   "source": []
  }
 ],
 "metadata": {
  "kernelspec": {
   "display_name": "Python 3 (ipykernel)",
   "language": "python",
   "name": "python3"
  },
  "language_info": {
   "codemirror_mode": {
    "name": "ipython",
    "version": 3
   },
   "file_extension": ".py",
   "mimetype": "text/x-python",
   "name": "python",
   "nbconvert_exporter": "python",
   "pygments_lexer": "ipython3",
   "version": "3.11.3"
  }
 },
 "nbformat": 4,
 "nbformat_minor": 5
}
